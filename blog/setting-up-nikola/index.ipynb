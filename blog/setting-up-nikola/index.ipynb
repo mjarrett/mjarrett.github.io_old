{
 "cells": [
  {
   "cell_type": "markdown",
   "metadata": {},
   "source": [
    "# Setting up a Jupyter blog\n",
    "\n",
    "I decided to move from a Wordpress blog to a static site hosted on github, and I mainly wanted something that would support Jupyter notebooks as blogposts. After hunting around a bit, Nikola seemed like the best bet: simple, written in Python, and with native notebook support.\n",
    "\n",
    "I followed [this blog post](http://www.jaakkoluttinen.fi/blog/how-to-blog-with-jupyter-ipython-notebook-and-nikola/) for setting up Nikola, and it worked really well!\n",
    "\n",
    "The only problem I found was that the default CSS that Nikola uses for notebooks has some ugly aspects, and it's not trivial to change. I particularly don't like the colored boxes that show up to the left of each cell around the In/Out prompts."
   ]
  },
  {
   "cell_type": "markdown",
   "metadata": {},
   "source": [
    "# Modifying a theme\n",
    "\n",
    "The Nikola base template lives in the Nikola package root, so to modify the CSS we'll have to mess around with themes.\n",
    "First, I picked a standard theme to use: `bootstrap3-gradients`. \n",
    "\n",
    "Theme-specific CSS files live in `./themes/bootstrap3-gradients/assets/css/`. Some themes (like bootstrap) don't come with this folder by default so I created it. In other themes it's already there. Then I created a file called `custom_ipython.css`, where I'll put my custom CSS to modify Jupyter notebooks. For now, I just want to remove the gray blocks around the In/Out prompts and the extra border around code cells, so my css file looks like this:\n",
    "\n",
    "```CSS\n",
    "/* Override nikola_ipython.css */\n",
    "div.prompt {\n",
    "  background-color: #FFFFFF;\n",
    "}\n",
    "\n",
    "div.input {\n",
    "  border: none;\n",
    "}\n",
    "```\n",
    "\n",
    "The bootstrap theme won't look for this file by default, so I need to modify the theme template file `./themes/bootstrap3-gradients/templates/base_helper.tmpl`. I look for the section with the default ipython CSS files, and add a line with my custom file:\n",
    "\n",
    "```CSS\n",
    "% if needs_ipython_css:\n",
    "        <link href=\"/assets/css/ipython.min.css\" rel=\"stylesheet\" type=\"text/css\">\n",
    "        <link href=\"/assets/css/nikola_ipython.css\" rel=\"stylesheet\" type=\"text/css\">\n",
    "        <link href=\"/assets/css/custom_ipython.css\" rel=\"stylesheet\" type=\"text/css\">\n",
    "% endif\n",
    "```\n",
    "\n",
    "That's it! It's a little annoying that I need to do this by hand if I want to change to a new theme, but"
   ]
  },
  {
   "cell_type": "code",
   "execution_count": 1,
   "metadata": {
    "collapsed": true
   },
   "outputs": [],
   "source": [
    "import numpy"
   ]
  },
  {
   "cell_type": "code",
   "execution_count": 2,
   "metadata": {},
   "outputs": [
    {
     "data": {
      "text/plain": [
       "3.141592653589793"
      ]
     },
     "execution_count": 2,
     "metadata": {},
     "output_type": "execute_result"
    }
   ],
   "source": [
    "numpy.pi"
   ]
  },
  {
   "cell_type": "code",
   "execution_count": null,
   "metadata": {
    "collapsed": true
   },
   "outputs": [],
   "source": []
  }
 ],
 "metadata": {
  "kernelspec": {
   "display_name": "Python 3",
   "language": "python",
   "name": "python3"
  },
  "language_info": {
   "codemirror_mode": {
    "name": "ipython",
    "version": 3
   },
   "file_extension": ".py",
   "mimetype": "text/x-python",
   "name": "python",
   "nbconvert_exporter": "python",
   "pygments_lexer": "ipython3",
   "version": "3.6.3"
  },
  "nikola": {
   "category": "",
   "date": "2018-01-05 21:50:46 UTC-08:00",
   "description": "",
   "link": "",
   "slug": "setting-up-nikola",
   "tags": "",
   "title": "Setting Up Nikola",
   "type": "text"
  }
 },
 "nbformat": 4,
 "nbformat_minor": 2
}
