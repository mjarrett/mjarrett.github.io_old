{
 "cells": [
  {
   "cell_type": "markdown",
   "metadata": {},
   "source": [
    "If you have an Android phone, Google is tracking your location. If you have \"Location History\" turned on in your settings, Google is *really* tracking your location. If you have this setting turned off, Google will still record your location when an app that has proper permission (like Google Maps or Strava) requests your location. This is creepy and probably bad from a privacy standpoint, but it's cool and fun from a data and visualisation standpoint. In the interest of blog content, I've let google track my location since I got my new phone ~1.5 years ago and it's now time to look at the data.\n",
    "\n",
    "Google offers ways to look at your location history through their apps, but it's more fun to do it myself. Through myaccount.google.com, you can create an archive of your personal information being stored by Google. You can pick which services you're interested in, but for now I'm just looking for my location history data. It takes some time for Google to create the archive and make it available for download.\n",
    "\n",
    "<!-- TEASER_END-->"
   ]
  },
  {
   "cell_type": "markdown",
   "metadata": {},
   "source": [
    "## Loading the location data\n",
    "\n",
    "You location history is stored as a JSON file, so I used the Pandas json tools to convert the file into an dataframe."
   ]
  },
  {
   "cell_type": "code",
   "execution_count": 1,
   "metadata": {
    "collapsed": true
   },
   "outputs": [],
   "source": [
    "%matplotlib notebook\n",
    "import pandas as pd\n",
    "import numpy as np\n",
    "import json\n",
    "from pandas.io.json import json_normalize"
   ]
  },
  {
   "cell_type": "code",
   "execution_count": 2,
   "metadata": {},
   "outputs": [
    {
     "data": {
      "text/html": [
       "<div>\n",
       "<style>\n",
       "    .dataframe thead tr:only-child th {\n",
       "        text-align: right;\n",
       "    }\n",
       "\n",
       "    .dataframe thead th {\n",
       "        text-align: left;\n",
       "    }\n",
       "\n",
       "    .dataframe tbody tr th {\n",
       "        vertical-align: top;\n",
       "    }\n",
       "</style>\n",
       "<table border=\"1\" class=\"dataframe\">\n",
       "  <thead>\n",
       "    <tr style=\"text-align: right;\">\n",
       "      <th></th>\n",
       "      <th>accuracy</th>\n",
       "      <th>activity</th>\n",
       "      <th>altitude</th>\n",
       "      <th>heading</th>\n",
       "      <th>latitudeE7</th>\n",
       "      <th>longitudeE7</th>\n",
       "      <th>timestampMs</th>\n",
       "      <th>velocity</th>\n",
       "      <th>verticalAccuracy</th>\n",
       "    </tr>\n",
       "  </thead>\n",
       "  <tbody>\n",
       "    <tr>\n",
       "      <th>0</th>\n",
       "      <td>21</td>\n",
       "      <td>[{'timestampMs': '1517286457815', 'activity': ...</td>\n",
       "      <td>43.0</td>\n",
       "      <td>NaN</td>\n",
       "      <td>492606672</td>\n",
       "      <td>-1231422941</td>\n",
       "      <td>1517285588681</td>\n",
       "      <td>NaN</td>\n",
       "      <td>2.0</td>\n",
       "    </tr>\n",
       "    <tr>\n",
       "      <th>1</th>\n",
       "      <td>21</td>\n",
       "      <td>[{'timestampMs': '1517285436401', 'activity': ...</td>\n",
       "      <td>43.0</td>\n",
       "      <td>NaN</td>\n",
       "      <td>492606407</td>\n",
       "      <td>-1231422879</td>\n",
       "      <td>1517285308941</td>\n",
       "      <td>NaN</td>\n",
       "      <td>2.0</td>\n",
       "    </tr>\n",
       "    <tr>\n",
       "      <th>2</th>\n",
       "      <td>21</td>\n",
       "      <td>NaN</td>\n",
       "      <td>43.0</td>\n",
       "      <td>NaN</td>\n",
       "      <td>492606330</td>\n",
       "      <td>-1231422958</td>\n",
       "      <td>1517285168226</td>\n",
       "      <td>NaN</td>\n",
       "      <td>2.0</td>\n",
       "    </tr>\n",
       "    <tr>\n",
       "      <th>3</th>\n",
       "      <td>21</td>\n",
       "      <td>NaN</td>\n",
       "      <td>44.0</td>\n",
       "      <td>NaN</td>\n",
       "      <td>492606220</td>\n",
       "      <td>-1231423005</td>\n",
       "      <td>1517285099258</td>\n",
       "      <td>NaN</td>\n",
       "      <td>4.0</td>\n",
       "    </tr>\n",
       "    <tr>\n",
       "      <th>4</th>\n",
       "      <td>22</td>\n",
       "      <td>NaN</td>\n",
       "      <td>43.0</td>\n",
       "      <td>NaN</td>\n",
       "      <td>492606435</td>\n",
       "      <td>-1231423034</td>\n",
       "      <td>1517284956658</td>\n",
       "      <td>NaN</td>\n",
       "      <td>2.0</td>\n",
       "    </tr>\n",
       "  </tbody>\n",
       "</table>\n",
       "</div>"
      ],
      "text/plain": [
       "   accuracy                                           activity  altitude  \\\n",
       "0        21  [{'timestampMs': '1517286457815', 'activity': ...      43.0   \n",
       "1        21  [{'timestampMs': '1517285436401', 'activity': ...      43.0   \n",
       "2        21                                                NaN      43.0   \n",
       "3        21                                                NaN      44.0   \n",
       "4        22                                                NaN      43.0   \n",
       "\n",
       "   heading  latitudeE7  longitudeE7    timestampMs  velocity  verticalAccuracy  \n",
       "0      NaN   492606672  -1231422941  1517285588681       NaN               2.0  \n",
       "1      NaN   492606407  -1231422879  1517285308941       NaN               2.0  \n",
       "2      NaN   492606330  -1231422958  1517285168226       NaN               2.0  \n",
       "3      NaN   492606220  -1231423005  1517285099258       NaN               4.0  \n",
       "4      NaN   492606435  -1231423034  1517284956658       NaN               2.0  "
      ]
     },
     "execution_count": 2,
     "metadata": {},
     "output_type": "execute_result"
    }
   ],
   "source": [
    "with open('Location_History.json') as f:\n",
    "    data = json.loads(f.read())\n",
    "\n",
    "df = json_normalize(data['locations'])\n",
    "df.head()"
   ]
  },
  {
   "cell_type": "markdown",
   "metadata": {},
   "source": [
    "Looks good, but some things need to be cleaned up. I need to pull the time value out of the \"activity\" column and convert it from unix time to a date, and convert latitude and longitude to degrees. I also notice that there's some timepoints with lat and long both zero, so I'll drop those rows."
   ]
  },
  {
   "cell_type": "code",
   "execution_count": 3,
   "metadata": {
    "collapsed": true
   },
   "outputs": [],
   "source": [
    "df['timems'] = df['activity'].map(lambda x: x[0]['timestampMs'],na_action='ignore')\n",
    "df['time'] = pd.to_datetime(df['timems'], unit='ms')\n",
    "\n",
    "\n",
    "df['latitude'] = df['latitudeE7'].map(lambda x:x/10000000)\n",
    "df['longitude'] = df['longitudeE7'].map(lambda x:x/10000000)\n",
    "\n",
    "df = df[df.latitude != 0]\n",
    "\n",
    "df = df.set_index('time')"
   ]
  },
  {
   "cell_type": "code",
   "execution_count": 4,
   "metadata": {},
   "outputs": [
    {
     "data": {
      "text/html": [
       "<div>\n",
       "<style>\n",
       "    .dataframe thead tr:only-child th {\n",
       "        text-align: right;\n",
       "    }\n",
       "\n",
       "    .dataframe thead th {\n",
       "        text-align: left;\n",
       "    }\n",
       "\n",
       "    .dataframe tbody tr th {\n",
       "        vertical-align: top;\n",
       "    }\n",
       "</style>\n",
       "<table border=\"1\" class=\"dataframe\">\n",
       "  <thead>\n",
       "    <tr style=\"text-align: right;\">\n",
       "      <th></th>\n",
       "      <th>accuracy</th>\n",
       "      <th>activity</th>\n",
       "      <th>altitude</th>\n",
       "      <th>heading</th>\n",
       "      <th>latitudeE7</th>\n",
       "      <th>longitudeE7</th>\n",
       "      <th>timestampMs</th>\n",
       "      <th>velocity</th>\n",
       "      <th>verticalAccuracy</th>\n",
       "      <th>timems</th>\n",
       "      <th>latitude</th>\n",
       "      <th>longitude</th>\n",
       "    </tr>\n",
       "    <tr>\n",
       "      <th>time</th>\n",
       "      <th></th>\n",
       "      <th></th>\n",
       "      <th></th>\n",
       "      <th></th>\n",
       "      <th></th>\n",
       "      <th></th>\n",
       "      <th></th>\n",
       "      <th></th>\n",
       "      <th></th>\n",
       "      <th></th>\n",
       "      <th></th>\n",
       "      <th></th>\n",
       "    </tr>\n",
       "  </thead>\n",
       "  <tbody>\n",
       "    <tr>\n",
       "      <th>2018-01-30 04:27:37.815</th>\n",
       "      <td>21</td>\n",
       "      <td>[{'timestampMs': '1517286457815', 'activity': ...</td>\n",
       "      <td>43.0</td>\n",
       "      <td>NaN</td>\n",
       "      <td>492606672</td>\n",
       "      <td>-1231422941</td>\n",
       "      <td>1517285588681</td>\n",
       "      <td>NaN</td>\n",
       "      <td>2.0</td>\n",
       "      <td>1517286457815</td>\n",
       "      <td>49.260667</td>\n",
       "      <td>-123.142294</td>\n",
       "    </tr>\n",
       "    <tr>\n",
       "      <th>2018-01-30 04:10:36.401</th>\n",
       "      <td>21</td>\n",
       "      <td>[{'timestampMs': '1517285436401', 'activity': ...</td>\n",
       "      <td>43.0</td>\n",
       "      <td>NaN</td>\n",
       "      <td>492606407</td>\n",
       "      <td>-1231422879</td>\n",
       "      <td>1517285308941</td>\n",
       "      <td>NaN</td>\n",
       "      <td>2.0</td>\n",
       "      <td>1517285436401</td>\n",
       "      <td>49.260641</td>\n",
       "      <td>-123.142288</td>\n",
       "    </tr>\n",
       "    <tr>\n",
       "      <th>NaT</th>\n",
       "      <td>21</td>\n",
       "      <td>NaN</td>\n",
       "      <td>43.0</td>\n",
       "      <td>NaN</td>\n",
       "      <td>492606330</td>\n",
       "      <td>-1231422958</td>\n",
       "      <td>1517285168226</td>\n",
       "      <td>NaN</td>\n",
       "      <td>2.0</td>\n",
       "      <td>NaN</td>\n",
       "      <td>49.260633</td>\n",
       "      <td>-123.142296</td>\n",
       "    </tr>\n",
       "    <tr>\n",
       "      <th>NaT</th>\n",
       "      <td>21</td>\n",
       "      <td>NaN</td>\n",
       "      <td>44.0</td>\n",
       "      <td>NaN</td>\n",
       "      <td>492606220</td>\n",
       "      <td>-1231423005</td>\n",
       "      <td>1517285099258</td>\n",
       "      <td>NaN</td>\n",
       "      <td>4.0</td>\n",
       "      <td>NaN</td>\n",
       "      <td>49.260622</td>\n",
       "      <td>-123.142301</td>\n",
       "    </tr>\n",
       "    <tr>\n",
       "      <th>NaT</th>\n",
       "      <td>22</td>\n",
       "      <td>NaN</td>\n",
       "      <td>43.0</td>\n",
       "      <td>NaN</td>\n",
       "      <td>492606435</td>\n",
       "      <td>-1231423034</td>\n",
       "      <td>1517284956658</td>\n",
       "      <td>NaN</td>\n",
       "      <td>2.0</td>\n",
       "      <td>NaN</td>\n",
       "      <td>49.260644</td>\n",
       "      <td>-123.142303</td>\n",
       "    </tr>\n",
       "  </tbody>\n",
       "</table>\n",
       "</div>"
      ],
      "text/plain": [
       "                         accuracy  \\\n",
       "time                                \n",
       "2018-01-30 04:27:37.815        21   \n",
       "2018-01-30 04:10:36.401        21   \n",
       "NaT                            21   \n",
       "NaT                            21   \n",
       "NaT                            22   \n",
       "\n",
       "                                                                  activity  \\\n",
       "time                                                                         \n",
       "2018-01-30 04:27:37.815  [{'timestampMs': '1517286457815', 'activity': ...   \n",
       "2018-01-30 04:10:36.401  [{'timestampMs': '1517285436401', 'activity': ...   \n",
       "NaT                                                                    NaN   \n",
       "NaT                                                                    NaN   \n",
       "NaT                                                                    NaN   \n",
       "\n",
       "                         altitude  heading  latitudeE7  longitudeE7  \\\n",
       "time                                                                  \n",
       "2018-01-30 04:27:37.815      43.0      NaN   492606672  -1231422941   \n",
       "2018-01-30 04:10:36.401      43.0      NaN   492606407  -1231422879   \n",
       "NaT                          43.0      NaN   492606330  -1231422958   \n",
       "NaT                          44.0      NaN   492606220  -1231423005   \n",
       "NaT                          43.0      NaN   492606435  -1231423034   \n",
       "\n",
       "                           timestampMs  velocity  verticalAccuracy  \\\n",
       "time                                                                 \n",
       "2018-01-30 04:27:37.815  1517285588681       NaN               2.0   \n",
       "2018-01-30 04:10:36.401  1517285308941       NaN               2.0   \n",
       "NaT                      1517285168226       NaN               2.0   \n",
       "NaT                      1517285099258       NaN               4.0   \n",
       "NaT                      1517284956658       NaN               2.0   \n",
       "\n",
       "                                timems   latitude   longitude  \n",
       "time                                                           \n",
       "2018-01-30 04:27:37.815  1517286457815  49.260667 -123.142294  \n",
       "2018-01-30 04:10:36.401  1517285436401  49.260641 -123.142288  \n",
       "NaT                                NaN  49.260633 -123.142296  \n",
       "NaT                                NaN  49.260622 -123.142301  \n",
       "NaT                                NaN  49.260644 -123.142303  "
      ]
     },
     "execution_count": 4,
     "metadata": {},
     "output_type": "execute_result"
    }
   ],
   "source": [
    "df.head()"
   ]
  },
  {
   "cell_type": "markdown",
   "metadata": {},
   "source": [
    "## Plotting with Cartopy\n",
    "\n",
    "Cartopy brings GIS functionality with Python and Matplotlib. It's pretty easy to play around with. There's various ways to visualize location data with cartopy. In this example, I'll use image tiles and plot my location on top of them. I also played around with using shapefiles to plot regional boundaries and roads instead of using map tiles, but I found that for the range of locations I wanted to use that was getting too complicated. If I was just mapping in Vancouver, for example, I would probably use local shapefiles for a nice clean map. In this case, the only external shapefile that I'll use is the [Natural Earth](http://www.naturalearthdata.com/features/) file of populated places, which gives us coordinates and population (and other information) for cities around the world.\n",
    "\n",
    "For easy plotting, I'll write a function that takes as input our dataframe, a date we're interested, and the list of Natural Earth populated places. The function will compute the geographical area we need to plot for that day, the cities we need to plot in that area, and plot the cities and location points. It will then return a matplotlib figure that we can display or save."
   ]
  },
  {
   "cell_type": "code",
   "execution_count": 5,
   "metadata": {
    "collapsed": true
   },
   "outputs": [],
   "source": [
    "import cartopy.crs as ccrs\n",
    "import cartopy.feature as cfeature\n",
    "import cartopy.io.shapereader as shpreader\n",
    "import cartopy.io.img_tiles as cimgt"
   ]
  },
  {
   "cell_type": "code",
   "execution_count": 6,
   "metadata": {
    "collapsed": true
   },
   "outputs": [],
   "source": [
    "pprecords = list(shpreader.Reader('/Users/msj/Dropbox/urban/maps/ne_10m_populated_places.shp').records())\n",
    "ppshapes = list(shpreader.Reader('/Users/msj/Dropbox/urban/maps/ne_10m_populated_places.shp').geometries())\n",
    "# zip the shapes and records together, sorted by population\n",
    "ppdata = sorted(list(zip(pprecords,ppshapes)),key=lambda x: x[0].attributes['POP2015'],reverse=True)"
   ]
  },
  {
   "cell_type": "code",
   "execution_count": 7,
   "metadata": {
    "collapsed": true
   },
   "outputs": [],
   "source": [
    "def make_map(df,day=None,ppdata=None,extent=None):\n",
    "\n",
    "    # Get latitudes and longitudes from dataframe\n",
    "    longs = df.loc[day,'longitude'].values\n",
    "    lats = df.loc[day,'latitude'].values\n",
    "\n",
    "        \n",
    "    # Create a Stamen Terrain instance.\n",
    "    stamen_terrain = cimgt.StamenTerrain()    \n",
    "        \n",
    "    # Create a GeoAxes in the tile's projection.\n",
    "    f,ax = plt.subplots(figsize=(10,10))\n",
    "    ax = plt.axes(projection=stamen_terrain.crs)\n",
    "\n",
    "    # Limit the extent of the map to a suitable longitude/latitude \n",
    "    # range for the given day.\n",
    "    xr = longs.min(),longs.max(),abs(longs.max()-longs.min())\n",
    "    yr = lats.min(),lats.max(),abs(lats.max()-lats.min())\n",
    "    r = max(xr,yr,key=lambda x:x[2])\n",
    "    r = max((r[2]/2)*1.1 , 0.1)\n",
    "    xm = (longs.max()+longs.min())/2\n",
    "    ym = (lats.max()+lats.min())/2\n",
    "\n",
    "    \n",
    "    if extent is None:\n",
    "        ax.set_extent([xm-r, xm+r, ym-r, ym+r])\n",
    "    else:\n",
    "        ax.set_extent(extent)\n",
    "    \n",
    "\n",
    "    # Add the Stamen data\n",
    "    if r>5: zoom=5\n",
    "    else: zoom=11\n",
    "    ax.add_image(stamen_terrain, zoom)\n",
    "    \n",
    "\n",
    "    \n",
    "    # Plot route\n",
    "    ax.plot(longs,lats,color='#1a9c99',transform=ccrs.Geodetic(),alpha=0.7,linewidth=1)\n",
    "    ax.scatter(longs,lats,color='red',transform=ccrs.Geodetic(),s=1.5)\n",
    "  \n",
    "\n",
    "\n",
    "    # Plot cities\n",
    "    if ppdata is not None:\n",
    "\n",
    "        # Filter to cities in range we're plotting\n",
    "        ppdata = [x for x in ppdata if (xm-r<x[1].coords[0][0]<xm+r) and (ym-r<x[1].coords[0][1]<ym+r)]\n",
    "\n",
    "        # Take only top 10 most populated cities in range\n",
    "        ppdata = ppdata[:10]\n",
    "\n",
    "\n",
    "        if len(ppdata)>0:\n",
    "            ppxy = [pt[1].coords[0] for pt in ppdata]\n",
    "            ppx,ppy = zip(*ppxy)\n",
    "            ppnames = [x[0].attributes['NAME'] for x in ppdata]\n",
    "            ax.scatter(ppx,ppy,color='#ffa263',transform=ccrs.Geodetic())\n",
    "            for i,s in enumerate(ppnames):\n",
    "                ax.text(ppx[i],ppy[i],ppnames[i],\n",
    "                        transform=ccrs.Geodetic(),\n",
    "                        clip_on=True)\n",
    "\n",
    "\n",
    "    \n",
    "    \n",
    "    # Add the date to the bottom corner of the figure\n",
    "    ax.text(0.1,0.1,day,transform=ax.transAxes,bbox={'facecolor':'white','pad':5})\n",
    "        \n",
    "    \n",
    "    return f,ax\n",
    "\n",
    "    "
   ]
  },
  {
   "cell_type": "markdown",
   "metadata": {},
   "source": [
    "Now I can plot my location history for a given day. On this day, I was running all over the city getting ready for our trip to the US Southwest."
   ]
  },
  {
   "cell_type": "code",
   "execution_count": 8,
   "metadata": {
    "collapsed": true
   },
   "outputs": [],
   "source": [
    "f,ax = make_map(df,'2017-09-08',ppdata)"
   ]
  },
  {
   "cell_type": "markdown",
   "metadata": {},
   "source": [
    "![](../images/2017-09-08.png)\n",
    "\n",
    "I want an image for each day, so I'll automate this by making a list of days in the dataframe and then looping over the days and making and saving a map for each day."
   ]
  },
  {
   "cell_type": "code",
   "execution_count": 9,
   "metadata": {
    "collapsed": true
   },
   "outputs": [],
   "source": [
    "days = sorted(list(set(df.index.dropna().strftime('%Y-%m-%d'))),reverse=True)"
   ]
  },
  {
   "cell_type": "code",
   "execution_count": 11,
   "metadata": {
    "collapsed": true
   },
   "outputs": [],
   "source": [
    "plt.ioff()\n",
    "while len(days)>0:\n",
    "    day = days.pop()\n",
    "    f,ax = make_map(df,day,ppdata)\n",
    "    f.savefig('../images/{}.png'.format(day))\n",
    "    plt.close(f)\n",
    "\n",
    "    \n",
    "plt.ion()"
   ]
  },
  {
   "cell_type": "markdown",
   "metadata": {},
   "source": [
    "(This can take a while if you have a lot of days to process -- cartopy will need to download the necessary image tiles for each day)\n",
    "\n",
    "I found I needed to clean up a couple maps, where Google thought I was 1000s of kilometers away from where I actually was. This is easy enough to do by filtering the dataframe before passing it to the function. This seems to happen on days when I'm flying, I think connecting to airport wifi networks confuses Google. "
   ]
  },
  {
   "cell_type": "code",
   "execution_count": 12,
   "metadata": {
    "collapsed": true
   },
   "outputs": [],
   "source": [
    "day = '2017-04-23'\n",
    "f,ax = make_map(df[df['longitude']<-100],day,ppdata)\n",
    "f.savefig('../images/{}.png'.format(day))"
   ]
  },
  {
   "cell_type": "markdown",
   "metadata": {},
   "source": [
    "![](../images/2017-04-23.png)"
   ]
  },
  {
   "cell_type": "code",
   "execution_count": 13,
   "metadata": {
    "collapsed": true
   },
   "outputs": [],
   "source": [
    "day = '2017-04-25'\n",
    "f,ax = make_map(df[df['longitude']<0],day,ppdata)\n",
    "f.savefig('../images/{}.png'.format(day))"
   ]
  },
  {
   "cell_type": "markdown",
   "metadata": {},
   "source": [
    "![](../images/2017-04-25.png)"
   ]
  },
  {
   "cell_type": "code",
   "execution_count": 14,
   "metadata": {
    "collapsed": true
   },
   "outputs": [],
   "source": [
    "day = '2017-09-09'\n",
    "f,ax = make_map(df[df['longitude']<-100],day,ppdata)\n",
    "f.savefig('../images/{}.png'.format(day))"
   ]
  },
  {
   "cell_type": "markdown",
   "metadata": {},
   "source": [
    "![](../images/2017-09-09.png)"
   ]
  },
  {
   "cell_type": "markdown",
   "metadata": {},
   "source": [
    "## Make animated GIFs from images\n",
    "\n",
    "There's two straightforward ways to make animated GIFs in Python. First, I could create an animation with `Matplotlib` and save the animation as a GIF. Second, I can load static images with `imagio` and combine them. Since I've already made the static images, I'll take the second route.\n",
    "\n",
    "Here I write a function that takes a list of filenames, the duration we want for each image, and the output file name, and creates a GIF out of those images"
   ]
  },
  {
   "cell_type": "code",
   "execution_count": 15,
   "metadata": {
    "collapsed": true
   },
   "outputs": [],
   "source": [
    "import imageio"
   ]
  },
  {
   "cell_type": "code",
   "execution_count": 16,
   "metadata": {
    "collapsed": true
   },
   "outputs": [],
   "source": [
    "def create_gif(filenames, duration, outname):\n",
    "    images = []\n",
    "    for filename in filenames:\n",
    "        images.append(imageio.imread(filename))\n",
    "    output_file = outname\n",
    "    imageio.mimsave(output_file, images, format='GIF', duration=duration)\n"
   ]
  },
  {
   "cell_type": "markdown",
   "metadata": {},
   "source": [
    "First I'll make a GIF of the entire location history, with each image lasting 1 second."
   ]
  },
  {
   "cell_type": "code",
   "execution_count": 17,
   "metadata": {
    "collapsed": true
   },
   "outputs": [],
   "source": [
    "files = sorted(glob('../images/*.png'))"
   ]
  },
  {
   "cell_type": "code",
   "execution_count": 18,
   "metadata": {
    "collapsed": true
   },
   "outputs": [],
   "source": [
    "create_gif(files,1,'../images/google-location-history.gif')"
   ]
  },
  {
   "cell_type": "markdown",
   "metadata": {},
   "source": [
    "I can now also just take date ranges and make GIFs of specific trips."
   ]
  },
  {
   "cell_type": "code",
   "execution_count": 19,
   "metadata": {
    "collapsed": true
   },
   "outputs": [],
   "source": [
    "# US Southwest\n",
    "\n",
    "start = files.index('../images/2017-09-09.png')\n",
    "finish = files.index('../images/2017-09-24.png')\n",
    "create_gif(files[start:finish-1], 3,'../images/southwest.gif' )"
   ]
  },
  {
   "cell_type": "markdown",
   "metadata": {},
   "source": [
    "![../images/southwest.gif](../images/southwest.gif)"
   ]
  },
  {
   "cell_type": "code",
   "execution_count": 20,
   "metadata": {
    "collapsed": true
   },
   "outputs": [],
   "source": [
    "# Hawaii\n",
    "\n",
    "start = files.index('images/2017-04-22.png')\n",
    "finish = files.index('images/2017-05-03.png')\n",
    "create_gif(files[start:finish-1], 3,'images/hawaii.gif' )"
   ]
  },
  {
   "cell_type": "markdown",
   "metadata": {},
   "source": [
    "![images/hawaii.gif](../images/hawaii.gif) "
   ]
  },
  {
   "cell_type": "code",
   "execution_count": 21,
   "metadata": {
    "collapsed": true
   },
   "outputs": [],
   "source": [
    "# Christmas 2017\n",
    "\n",
    "start = files.index('images/2017-12-22.png')\n",
    "finish = files.index('images/2018-01-01.png')\n",
    "create_gif(files[start:finish-1], 3,'images/christmas.gif' )"
   ]
  },
  {
   "cell_type": "markdown",
   "metadata": {
    "collapsed": true
   },
   "source": [
    "![](../images/christmas.gif)"
   ]
  },
  {
   "cell_type": "markdown",
   "metadata": {},
   "source": [
    "You can even see the two days over the Christams holidays where my phone was lost in a snow bank! And the time my flight was diverted on the way to Hawaii and I had to spend a night in Portland.\n",
    "\n",
    "The main challenge in making GIFs out of cartographic renderings is that it's tough to get a consistent aspect ratio. In my function, each map has an equal latitude and longitude range in degrees, but depending on the projection you're mapping in this will change the resulting aspect ratio of your image depending on the latitude at which you're plotting. I dealt with this be specifying a square figure size in my initial pyplot call, otherwise some of the images might get cut off when you combine them as a GIF. "
   ]
  }
 ],
 "metadata": {
  "kernelspec": {
   "display_name": "Python 3",
   "language": "python",
   "name": "python3"
  },
  "language_info": {
   "codemirror_mode": {
    "name": "ipython",
    "version": 3
   },
   "file_extension": ".py",
   "mimetype": "text/x-python",
   "name": "python",
   "nbconvert_exporter": "python",
   "pygments_lexer": "ipython3",
   "version": "3.6.3"
  },
  "nikola": {
   "category": "",
   "date": "2018-02-10 18:01:21 UTC-08:00",
   "description": "",
   "link": "",
   "slug": "mapping-googles-location-history-with-python",
   "tags": "",
   "title": "Mapping Google's Location History with Python",
   "type": "text"
  }
 },
 "nbformat": 4,
 "nbformat_minor": 2
}
