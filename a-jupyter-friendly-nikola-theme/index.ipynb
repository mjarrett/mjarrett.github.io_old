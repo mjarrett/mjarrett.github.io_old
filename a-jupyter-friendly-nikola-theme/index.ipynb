{
 "cells": [
  {
   "cell_type": "markdown",
   "metadata": {},
   "source": [
    "I was very happy to discover the Nikola website framework recently, thanks to it's easy setup and natural integration with Jupyter notebooks. I was surprised, though, that while Jupyter integration is super easy, notebooks don't look great with a lot of themes. I decided I might as well learn how to do some custom themeing, and the result is [bootyper](https://github.com/mjarrett/bootyper), and extension of the basic Bootstrap3 theme with some small improvements in Jupyter compatibility. \n",
    "\n",
    "<!-- TEASER_END-->\n",
    "\n",
    "Here's an example of the effect I don't like. Notice the grey boxes around the input/output prompts. \n",
    "![](/images/jupyter-example1.png)\n",
    "*From http://www.grahamwheeler.com/posts/using-jupyter-as-a-music-notebook.html*\n",
    "\n",
    "## Fixing the prompt style\n",
    "\n",
    "So my first move is to remove those boxes by adding a new CSS stylesheet. \n",
    "\n",
    "```\n",
    "/* Override nikola_ipython.css */\n",
    "div.prompt {\n",
    "  background-color: #FFFFFF;\n",
    "}\n",
    "\n",
    "div.input {\n",
    "  border: none;\n",
    "}\n",
    "```\n",
    "\n",
    "And add that stylesheet to base header in `base_helper.tmpl`:\n",
    "```\n",
    "    % if needs_ipython_css:\n",
    "\t    <link href=\"/assets/css/ipython.min.css\" rel=\"stylesheet\" type=\"text/css\">\n",
    "        <link href=\"/assets/css/nikola_ipython.css\" rel=\"stylesheet\" type=\"text/css\">\n",
    "        <link href=\"/assets/css/bootyper.css\" rel=\"stylesheet\" type=\"text/css\">\n",
    "    % endif\n",
    "```\n",
    "\n",
    "## Add a button to hide/reveal code cells\n",
    "\n",
    "I plan to use my blog for a combination of technical posts where content is mostly in the code cells, and more general interest posts where the code is a means to an end. For readers who don't care about looking at the raw code, I want a button that can hide the code cells and just leave Markdown cells and output fields. \n",
    "\n",
    "To do this, I make a copy of the `post.tmpl` template file and name it `post_ipynb.tmpl`. This template will be used when generating a post from a Jupyter notebook. To make Nikola aware of these, I edit the `conf.py` file such that the entry for .ipynb files reads:\n",
    "```\n",
    "POSTS = (\n",
    "    (\"posts/*.ipynb\", \"blog\", \"post_ipynb.tmpl\"),\n",
    "    ...\n",
    ")\n",
    "```\n",
    "\n",
    "Finally, I edit the new template file to add a button that calls some javascript to toggle the input code cells\n",
    "```\n",
    "<div>\n",
    "<script>\n",
    "code_show=true;\n",
    "function code_toggle() {\n",
    " if (code_show){\n",
    " $('div.input').hide();\n",
    " } else {\n",
    " $('div.input').show();\n",
    " }\n",
    " code_show = !code_show\n",
    "}\n",
    "$( document ).ready(code_toggle);\n",
    "</script>\n",
    "<form action=\"javascript:code_toggle()\"><input type=\"submit\" class=\"btn btn-primary\" value=\"Click here to toggle on/off the raw code.\"></form>\n",
    "    </div>\n",
    "```\n",
    "\n",
    "And that's it! Easier on the eyes and a bit of added functionality. Try it yourself with the code cells below!\n",
    "![](/images/code_on.png)\n",
    "![](/images/code_off.png)"
   ]
  },
  {
   "cell_type": "code",
   "execution_count": 2,
   "metadata": {
    "collapsed": true
   },
   "outputs": [],
   "source": [
    "a = 1"
   ]
  },
  {
   "cell_type": "code",
   "execution_count": 3,
   "metadata": {},
   "outputs": [
    {
     "data": {
      "text/html": [
       "1"
      ],
      "text/latex": [
       "1"
      ],
      "text/markdown": [
       "1"
      ],
      "text/plain": [
       "[1] 1"
      ]
     },
     "metadata": {},
     "output_type": "display_data"
    }
   ],
   "source": [
    "a"
   ]
  }
 ],
 "metadata": {
  "kernelspec": {
   "display_name": "R",
   "language": "R",
   "name": "ir"
  },
  "language_info": {
   "codemirror_mode": "r",
   "file_extension": ".r",
   "mimetype": "text/x-r-source",
   "name": "R",
   "pygments_lexer": "r",
   "version": "3.4.1"
  },
  "nikola": {
   "category": "",
   "date": "2018-01-15 19:05:56 UTC-08:00",
   "description": "",
   "link": "",
   "slug": "a-jupyter-friendly-nikola-theme",
   "tags": "",
   "title": "A Jupyter-friendly Nikola theme",
   "type": "text"
  }
 },
 "nbformat": 4,
 "nbformat_minor": 2
}
